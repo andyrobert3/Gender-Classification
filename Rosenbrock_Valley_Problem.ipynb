{
 "cells": [
  {
   "cell_type": "code",
   "execution_count": 9,
   "metadata": {},
   "outputs": [
    {
     "data": {
      "text/plain": [
       "0"
      ]
     },
     "execution_count": 9,
     "metadata": {},
     "output_type": "execute_result"
    }
   ],
   "source": [
    "import numpy as np\n",
    "import matplotlib.pyplot as plt\n",
    "import decimal\n",
    "\n",
    "from scipy import misc\n",
    "from random import random\n",
    "\n",
    "# Rosenbrock's Valley function:\n",
    "def f(x, y):\n",
    "    return (1 - x) ** 2 - (100 * (y - (x ** 2) ** 2))\n",
    "\n",
    "# Global minimum at f(1, 1) = 0\n",
    "f(1, 1)"
   ]
  },
  {
   "cell_type": "markdown",
   "metadata": {},
   "source": [
    "## Partial Derivatives"
   ]
  },
  {
   "cell_type": "code",
   "execution_count": 10,
   "metadata": {},
   "outputs": [],
   "source": [
    "def partial_x(x, y):\n",
    "    return 2 * (200*x**3 - 200*x*y + x -1)\n",
    "\n",
    "def partial_y(x, y):\n",
    "    return 200 * (y - x ** 2)"
   ]
  },
  {
   "cell_type": "code",
   "execution_count": 11,
   "metadata": {},
   "outputs": [],
   "source": [
    "# starting point is initialized between interval (0, 1) for x, y\n",
    "x = random()\n",
    "y = random()"
   ]
  },
  {
   "cell_type": "markdown",
   "metadata": {},
   "source": [
    "## Gradient Descent"
   ]
  },
  {
   "cell_type": "code",
   "execution_count": 12,
   "metadata": {},
   "outputs": [
    {
     "data": {
      "image/png": "[encoded data removed]",
      "text/plain": [
       "<Figure size 432x288 with 1 Axes>"
      ]
     },
     "metadata": {
      "needs_background": "light"
     },
     "output_type": "display_data"
    }
   ],
   "source": [
    "# learning rate\n",
    "alpha = 0.001\n",
    "# stop condition (difference near 0)\n",
    "stop_cond = 0.0001\n",
    "\n",
    "z = f(x, y)\n",
    "\n",
    "plt.scatter(x, y)\n",
    "# plt.scatter(z, 0)\n",
    "\n",
    "num_iter = 0\n",
    "z_diff = stop_cond + 10.0 # Greater condition than stop condition\n",
    "z_prev = z\n",
    "\n",
    "while z_diff > stop_cond or z > abs(stop_cond):\n",
    "    # partial derivatives  \n",
    "    x = x - (alpha * partial_x(x, y))\n",
    "    y = y - (alpha * partial_y(x, y))\n",
    "    \n",
    "    # Re-calculate the function\n",
    "    z = f(x , y)\n",
    "    z_diff = abs(z_prev - z)\n",
    "    z_prev = z\n",
    "    \n",
    "    plt.scatter(x, y)\n",
    "#     plt.scatter(z, 0)\n",
    "    \n",
    "    num_iter += 1"
   ]
  },
  {
   "cell_type": "code",
   "execution_count": 13,
   "metadata": {},
   "outputs": [
    {
     "name": "stdout",
     "output_type": "stream",
     "text": [
      "Iterations needed:  1026\n",
      "x:  0.7088497492828352\n",
      "y:  0.5011996542359214\n",
      "z:  -24.78779116312554\n"
     ]
    }
   ],
   "source": [
    "# Final plotting and answers\n",
    "\n",
    "print(\"Iterations needed: \", num_iter)\n",
    "print(\"x: \", x)\n",
    "print(\"y: \", y)\n",
    "\n",
    "z = f(x, y)\n",
    "print(\"z: \", z)\n",
    "\n",
    "plt.show()"
   ]
  },
  {
   "cell_type": "markdown",
   "metadata": {},
   "source": [
    "# Newton's method\n",
    "\n",
    "Defining **Hessian** matrix "
   ]
  },
  {
   "cell_type": "code",
   "execution_count": 51,
   "metadata": {},
   "outputs": [],
   "source": [
    "import numpy as np\n",
    "\n",
    "def partial_x(x, y):\n",
    "    return 2 * (200*x**3 - 200*x*y + x - 1)\n",
    "\n",
    "def partial_y(x, y):\n",
    "    return 200 * (y - x ** 2)\n",
    "\n",
    "# partial_xy represents d/dy(d/dx(f(x, y)))\n",
    "\n",
    "def partial_xx(x, y):\n",
    "    return 1200*(x ** 2) - (400 * y) + 2\n",
    "\n",
    "def partial_xy(x, y):\n",
    "    return -400 * x\n",
    "\n",
    "def partial_yx(x, y):\n",
    "    return -400 * x\n",
    "\n",
    "def partial_yy(x, y):\n",
    "    return 200"
   ]
  },
  {
   "cell_type": "code",
   "execution_count": 52,
   "metadata": {},
   "outputs": [
    {
     "data": {
      "text/plain": [
       "<Figure size 432x288 with 0 Axes>"
      ]
     },
     "metadata": {},
     "output_type": "display_data"
    }
   ],
   "source": [
    "# starting point is initialized between interval (0, 1) for x, y\n",
    "x = random()\n",
    "y = random()\n",
    "\n",
    "# Hessian matrix\n",
    "def hessian_matrix_inv(x, y):\n",
    "    H = np.array([[partial_xx(x, y), partial_xy(x, y)], [partial_yx(x, y), partial_yy(x, y)]])\n",
    "    return np.linalg.inv(H)\n",
    "\n",
    "# Clears previous diagram\n",
    "plt.clf()\n",
    "H_inverse = hessian_matrix_inv(x, y)\n",
    "\n",
    "# Gradient vector\n",
    "g = np.array([partial_x(x, y), partial_y(x, y)])"
   ]
  },
  {
   "cell_type": "code",
   "execution_count": 53,
   "metadata": {},
   "outputs": [
    {
     "data": {
      "image/png": "[encoded data removed]",
      "text/plain": [
       "<Figure size 432x288 with 1 Axes>"
      ]
     },
     "metadata": {
      "needs_background": "light"
     },
     "output_type": "display_data"
    }
   ],
   "source": [
    "cost_diff = -H_inverse.dot(g)\n",
    "\n",
    "threshold = 0\n",
    "num_iterations = 0\n",
    "\n",
    "while abs(cost_diff[0]) > threshold or abs(cost_diff[1]) > threshold:\n",
    "    x += cost_diff[0]\n",
    "    y += cost_diff[1]\n",
    "    \n",
    "    H_inverse = hessian_matrix_inv(x, y)\n",
    "    g = np.array([partial_x(x, y), partial_y(x, y)])\n",
    "    \n",
    "    cost_diff = -H_inverse.dot(g)\n",
    "\n",
    "    num_iterations += 1 \n",
    "    plt.scatter(x, y)\n",
    "        "
   ]
  },
  {
   "cell_type": "code",
   "execution_count": 48,
   "metadata": {},
   "outputs": [
    {
     "name": "stdout",
     "output_type": "stream",
     "text": [
      "Iterations needed for Newton's method:  7\n",
      "x = 1.0; y = 1.0; f(x, y) = 0.0\n"
     ]
    }
   ],
   "source": [
    "print(\"Iterations needed for Newton's method: \", num_iterations)\n",
    "print(\"x = {0}; y = {1}; f(x, y) = {2}\".format(x, y, f(x, y)))"
   ]
  }
 ],
 "metadata": {
  "kernelspec": {
   "display_name": "Python 3",
   "language": "python",
   "name": "python3"
  },
  "language_info": {
   "codemirror_mode": {
    "name": "ipython",
    "version": 3
   },
   "file_extension": ".py",
   "mimetype": "text/x-python",
   "name": "python",
   "nbconvert_exporter": "python",
   "pygments_lexer": "ipython3",
   "version": "3.7.6"
  }
 },
 "nbformat": 4,
 "nbformat_minor": 2
}
