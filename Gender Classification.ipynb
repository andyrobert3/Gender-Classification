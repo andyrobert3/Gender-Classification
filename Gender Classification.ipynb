{
 "cells": [
  {
   "cell_type": "markdown",
   "metadata": {},
   "source": [
    "# Gender Classification\n",
    "\n",
    "This notebook will attempt to classify photos of people to determine whether they are male or female "
   ]
  },
  {
   "cell_type": "markdown",
   "metadata": {},
   "source": [
    "## Data Input & Cleaning\n"
   ]
  },
  {
   "cell_type": "code",
   "execution_count": 2,
   "metadata": {},
   "outputs": [],
   "source": [
    "import numpy as np\n",
    "import cv2\n",
    "import glob\n",
    "import time\n",
    "import matplotlib.pyplot as plt\n",
    "from sklearn.base import BaseEstimator, ClassifierMixin\n",
    "from sklearn.decomposition import PCA\n",
    "\n",
    "train_images_path = \"Face Database/TrainImages\"\n",
    "test_images_path = \"Face Database/TestImages\""
   ]
  },
  {
   "cell_type": "markdown",
   "metadata": {},
   "source": [
    "### Image pre-processing (optional PCA)\n",
    "\n",
    "https://towardsdatascience.com/dimensionality-reduction-does-pca-really-improve-classification-outcome-6e9ba21f0a32\n"
   ]
  },
  {
   "cell_type": "code",
   "execution_count": 6,
   "metadata": {},
   "outputs": [],
   "source": [
    "# PCA down-sizing (optional)\n",
    "is_pca_enabled = True\n",
    "num_principal_components = 60\n",
    "\n",
    "def extract_train_test_images(pca_enabled, num_components):\n",
    "    # Extract gray images from files\n",
    "    training_images = [cv2.cvtColor(cv2.imread(file), cv2.COLOR_BGR2GRAY) for file in glob.glob(\"{0}/*.jpg\".format(train_images_path))]\n",
    "    testing_images = [cv2.cvtColor(cv2.imread(file), cv2.COLOR_BGR2GRAY) for file in glob.glob(\"{0}/*.jpg\".format(test_images_path))]\n",
    "    \n",
    "    pca = PCA(num_components)\n",
    "    if (pca_enabled):\n",
    "        training_images = [pca.inverse_transform(pca.fit_transform(img)) for img in training_images]\n",
    "        testing_images = [pca.inverse_transform(pca.fit_transform(img)) for img in testing_images]\n",
    "\n",
    "    # Ensure image sizes are of the same dimension\n",
    "    # May result loss in accuracy, how to better handle this?\n",
    "    training_images = [img[:101, :101].reshape(101 * 101) if img.shape != (101, 101) else img.reshape(101 * 101) for img in training_images]\n",
    "    testing_images = [img[:101, :101].reshape(101 * 101) if img.shape != (101, 101) else img.reshape(101 * 101) for img in testing_images]\n",
    "\n",
    "    # Convert list to 2d ndarray\n",
    "    training_images = np.stack(training_images)\n",
    "    testing_images = np.stack(testing_images)\n",
    "    \n",
    "    return (training_images, testing_images)\n",
    "\n",
    "train_images, test_images = extract_train_test_images(is_pca_enabled, num_principal_components)"
   ]
  },
  {
   "cell_type": "code",
   "execution_count": 7,
   "metadata": {},
   "outputs": [],
   "source": [
    "# Read ground-truth label\n",
    "def extract_gender_classifier(file_name):\n",
    "    file = open(file_name, \"r\")\n",
    "    if file.mode == \"r\":\n",
    "        contents = file.readlines()\n",
    "        # Gender label in the 0th index (male: 1; female: 0)\n",
    "        gender_classifier_str = contents[0]\n",
    "        return int(gender_classifier_str[0])\n",
    "    \n",
    "train_images_label = [extract_gender_classifier(file) for file in glob.glob(\"{0}/*.att\".format(train_images_path))]\n",
    "test_images_label = np.array([extract_gender_classifier(file) for file in glob.glob(\"{0}/*.att\".format(test_images_path))])"
   ]
  },
  {
   "cell_type": "markdown",
   "metadata": {},
   "source": [
    "## Rosenblatt's perceptron implementation"
   ]
  },
  {
   "cell_type": "code",
   "execution_count": 8,
   "metadata": {},
   "outputs": [],
   "source": [
    "# Non-linear activiation function\n",
    "def heaviside(x):\n",
    "    return np.heaviside(x, 1).astype(np.int)\n",
    "\n",
    "\n",
    "threshold = 0.001\n",
    "\n",
    "class Rosenblatt(BaseEstimator, ClassifierMixin):\n",
    "    def __init__(self):\n",
    "        return\n",
    "    \n",
    "    def predict(self, X):\n",
    "        return heaviside(X.dot(self.weights) + self.bias)\n",
    "    \n",
    "    \"\"\"\n",
    "    Input: \n",
    "    \n",
    "    X: numpy 2D array. Each row represents one training example.\n",
    "    y: numpy 1D array. Binary classification of each example.\n",
    "    \n",
    "    --------\n",
    "    \n",
    "    Output:\n",
    "    \n",
    "    self: Trained perceptron model\n",
    "    \n",
    "    \"\"\"\n",
    "    def fit(self, X, y, epochs=100):\n",
    "        num_features = X.shape[1]\n",
    "    \n",
    "        self.weights = np.zeros((num_features, ))\n",
    "        self.bias = 0.0\n",
    "        \n",
    "        for num_iter in range(epochs):\n",
    "            # Current number of errors\n",
    "            errors = 0\n",
    "            \n",
    "            for xi, y_true in zip(X, y):\n",
    "                error = y_true - self.predict(xi)\n",
    "                \n",
    "                if abs(error) > threshold:\n",
    "                    # Update weights accordingly\n",
    "                    self.weights += error * xi\n",
    "                    self.bias += error\n",
    "                    \n",
    "                    # Number of errors\n",
    "                    errors += 1\n",
    "            \n",
    "            if errors == 0:\n",
    "                break\n",
    "\n",
    "        return self"
   ]
  },
  {
   "cell_type": "markdown",
   "metadata": {},
   "source": [
    "### Training and testing Rosenblatt's perceptron"
   ]
  },
  {
   "cell_type": "code",
   "execution_count": 9,
   "metadata": {},
   "outputs": [],
   "source": [
    "# Training and running model against train data\n",
    "model = Rosenblatt()\n",
    "model.fit(train_images, train_images_label)\n",
    "test_images_output = model.predict(test_images)"
   ]
  },
  {
   "cell_type": "markdown",
   "metadata": {},
   "source": [
    "### Checking accuracy of Rosenblatt's perceptron model"
   ]
  },
  {
   "cell_type": "code",
   "execution_count": 10,
   "metadata": {},
   "outputs": [
    {
     "name": "stdout",
     "output_type": "stream",
     "text": [
      "66.4\n"
     ]
    }
   ],
   "source": [
    "# Rosenblatt's perceptron accuracy rate\n",
    "num_correct = np.where(test_images_output == test_images_label)[0].shape[0]\n",
    "\n",
    "accuracy = num_correct / test_images_label.shape[0]\n",
    "\n",
    "print(\"Accuracy: {0}%\".format(accuracy * 100))"
   ]
  },
  {
   "cell_type": "markdown",
   "metadata": {},
   "source": [
    "### Compare accuracy between different number of principal components\n"
   ]
  },
  {
   "cell_type": "code",
   "execution_count": 16,
   "metadata": {
    "scrolled": true
   },
   "outputs": [
    {
     "name": "stdout",
     "output_type": "stream",
     "text": [
      "Number of PCA components: 1; Time taken: 7.778629779815674; Accuracy rate: 56.39999999999999%\n",
      "Number of PCA components: 6; Time taken: 8.38592004776001; Accuracy rate: 72.0%\n",
      "Number of PCA components: 11; Time taken: 7.053526163101196; Accuracy rate: 70.39999999999999%\n",
      "Number of PCA components: 16; Time taken: 7.246672868728638; Accuracy rate: 70.8%\n",
      "Number of PCA components: 21; Time taken: 7.060499906539917; Accuracy rate: 71.2%\n",
      "Number of PCA components: 26; Time taken: 7.972759008407593; Accuracy rate: 69.19999999999999%\n",
      "Number of PCA components: 31; Time taken: 7.987107038497925; Accuracy rate: 73.6%\n",
      "Number of PCA components: 36; Time taken: 7.919018983840942; Accuracy rate: 61.199999999999996%\n",
      "Number of PCA components: 41; Time taken: 10.805781126022339; Accuracy rate: 63.6%\n",
      "Number of PCA components: 46; Time taken: 9.346468210220337; Accuracy rate: 70.0%\n",
      "Number of PCA components: 51; Time taken: 8.084949970245361; Accuracy rate: 64.8%\n",
      "Number of PCA components: 56; Time taken: 8.58357286453247; Accuracy rate: 71.6%\n",
      "Number of PCA components: 61; Time taken: 8.831340074539185; Accuracy rate: 69.6%\n",
      "Number of PCA components: 66; Time taken: 8.365308284759521; Accuracy rate: 67.2%\n",
      "Number of PCA components: 71; Time taken: 8.959273099899292; Accuracy rate: 62.4%\n",
      "Number of PCA components: 76; Time taken: 8.515184879302979; Accuracy rate: 62.4%\n",
      "Number of PCA components: 81; Time taken: 8.350536823272705; Accuracy rate: 71.6%\n",
      "Number of PCA components: 86; Time taken: 10.227251052856445; Accuracy rate: 71.6%\n",
      "Number of PCA components: 91; Time taken: 8.533122062683105; Accuracy rate: 71.6%\n",
      "Number of PCA components: 96; Time taken: 8.282336711883545; Accuracy rate: 71.6%\n",
      "Number of PCA components: 101; Time taken: 9.625080108642578; Accuracy rate: 71.6%\n"
     ]
    },
    {
     "data": {
      "image/png": "[encoded data removed]",
      "text/plain": [
       "<Figure size 432x288 with 1 Axes>"
      ]
     },
     "metadata": {
      "needs_background": "light"
     },
     "output_type": "display_data"
    }
   ],
   "source": [
    "for num_principal_components in range(1, 102, 5):\n",
    "    start_time = time.time()\n",
    "    train_images, test_images = extract_train_test_images(True, num_principal_components)\n",
    "    \n",
    "    model = Rosenblatt()\n",
    "    model.fit(train_images, train_images_label)\n",
    "    test_images_output = model.predict(test_images)\n",
    "    \n",
    "    # Rosenblatt's perceptron accuracy rate\n",
    "    num_correct = np.where(test_images_output == test_images_label)[0].shape[0]\n",
    "\n",
    "    accuracy = num_correct / test_images_label.shape[0] * 100\n",
    "    \n",
    "    elapsed_time = time.time() - start_time\n",
    "    plt.scatter(num_principal_components, accuracy)\n",
    "    print(\"Number of PCA components: {0}; Time taken: {1}; Accuracy rate: {2}%\".format(num_principal_components, elapsed_time, accuracy))\n",
    "    \n",
    "plt.show()"
   ]
  },
  {
   "cell_type": "markdown",
   "metadata": {},
   "source": [
    "https://machinelearningmastery.com/how-to-develop-a-convolutional-neural-network-to-classify-photos-of-dogs-and-cats/\n"
   ]
  },
  {
   "cell_type": "markdown",
   "metadata": {},
   "source": [
    "https://www.askpython.com/python/examples/principal-component-analysis-for-image-data"
   ]
  },
  {
   "cell_type": "markdown",
   "metadata": {},
   "source": [
    "\n",
    "\n",
    "## PCA image compression\n",
    "\n",
    "Testing out here and there"
   ]
  },
  {
   "cell_type": "code",
   "execution_count": 7,
   "metadata": {},
   "outputs": [
    {
     "data": {
      "text/plain": [
       "<matplotlib.image.AxesImage at 0x1272903d0>"
      ]
     },
     "execution_count": 7,
     "metadata": {},
     "output_type": "execute_result"
    },
    {
     "data": {
      "image/png": "[encoded data removed]",
      "text/plain": [
       "<Figure size 432x288 with 1 Axes>"
      ]
     },
     "metadata": {
      "needs_background": "light"
     },
     "output_type": "display_data"
    }
   ],
   "source": [
    "from sklearn.decomposition import PCA\n",
    "import matplotlib.pyplot as plt\n",
    "import cv2\n",
    "\n",
    "img = cv2.cvtColor(cv2.imread(\"Face Database/TrainImages/Abel_Aguilar_0001.jpg\"), cv2.COLOR_BGR2GRAY)\n",
    "\n",
    "pca = PCA(20)\n",
    "img_compressed = pca.inverse_transform(pca.fit_transform(img))\n",
    "plt.imshow(img_compressed)"
   ]
  },
  {
   "cell_type": "markdown",
   "metadata": {},
   "source": [
    "### Batch & Sequential Mode training with Keras"
   ]
  },
  {
   "cell_type": "code",
   "execution_count": 83,
   "metadata": {},
   "outputs": [],
   "source": [
    "import tensorflow as tf\n",
    "\n",
    "train_images, test_images = extract_train_test_images(False, num_principal_components)\n",
    "train_images_label = np.array([extract_gender_classifier(file) for file in glob.glob(\"{0}/*.att\".format(train_images_path))])\n",
    "test_images_label = np.array([extract_gender_classifier(file) for file in glob.glob(\"{0}/*.att\".format(test_images_path))])"
   ]
  },
  {
   "cell_type": "code",
   "execution_count": 84,
   "metadata": {
    "scrolled": false
   },
   "outputs": [],
   "source": [
    "model = tf.keras.models.Sequential()\n",
    "\n",
    "# Layer building\n",
    "model.add(tf.keras.layers.Dense(256, input_dim=10201, activation=tf.nn.relu))\n",
    "model.add(tf.keras.layers.Dense(128, activation=tf.nn.relu))\n",
    "# Output layer (number of classifications)\n",
    "model.add(tf.keras.layers.Dense(1, activation=tf.nn.sigmoid))\n",
    "\n",
    "model.compile(loss='binary_crossentropy', optimizer='adam', metrics=['accuracy'])"
   ]
  },
  {
   "cell_type": "code",
   "execution_count": 88,
   "metadata": {},
   "outputs": [
    {
     "name": "stdout",
     "output_type": "stream",
     "text": [
      "Epoch 1/150\n",
      "1/1 [==============================] - 0s 90ms/step - loss: 2.6990 - accuracy: 0.3350\n",
      "Epoch 2/150\n",
      "1/1 [==============================] - 0s 61ms/step - loss: 3.5345 - accuracy: 0.7400\n",
      "Epoch 3/150\n",
      "1/1 [==============================] - 0s 65ms/step - loss: 4.3225 - accuracy: 0.7400\n",
      "Epoch 4/150\n",
      "1/1 [==============================] - 0s 62ms/step - loss: 1.6571 - accuracy: 0.7410\n",
      "Epoch 5/150\n",
      "1/1 [==============================] - 0s 65ms/step - loss: 9.0765 - accuracy: 0.2610\n",
      "Epoch 6/150\n",
      "1/1 [==============================] - 0s 63ms/step - loss: 1.4481 - accuracy: 0.7410\n",
      "Epoch 7/150\n",
      "1/1 [==============================] - 0s 64ms/step - loss: 3.3303 - accuracy: 0.7400\n",
      "Epoch 8/150\n",
      "1/1 [==============================] - 0s 70ms/step - loss: 1.9698 - accuracy: 0.7460\n",
      "Epoch 9/150\n",
      "1/1 [==============================] - 0s 72ms/step - loss: 4.8274 - accuracy: 0.2820\n",
      "Epoch 10/150\n",
      "1/1 [==============================] - 0s 79ms/step - loss: 2.7196 - accuracy: 0.7420\n",
      "Epoch 11/150\n",
      "1/1 [==============================] - 0s 74ms/step - loss: 4.0263 - accuracy: 0.7400\n",
      "Epoch 12/150\n",
      "1/1 [==============================] - 0s 61ms/step - loss: 2.1349 - accuracy: 0.7420\n",
      "Epoch 13/150\n",
      "1/1 [==============================] - 0s 62ms/step - loss: 5.6839 - accuracy: 0.2630\n",
      "Epoch 14/150\n",
      "1/1 [==============================] - 0s 75ms/step - loss: 1.7540 - accuracy: 0.7450\n",
      "Epoch 15/150\n",
      "1/1 [==============================] - 0s 91ms/step - loss: 2.7594 - accuracy: 0.7410\n",
      "Epoch 16/150\n",
      "1/1 [==============================] - 0s 64ms/step - loss: 1.0787 - accuracy: 0.7390\n",
      "Epoch 17/150\n",
      "1/1 [==============================] - 0s 66ms/step - loss: 6.0998 - accuracy: 0.2630\n",
      "Epoch 18/150\n",
      "1/1 [==============================] - 0s 68ms/step - loss: 2.1993 - accuracy: 0.7420\n",
      "Epoch 19/150\n",
      "1/1 [==============================] - 0s 66ms/step - loss: 3.8212 - accuracy: 0.7400\n",
      "Epoch 20/150\n",
      "1/1 [==============================] - 0s 70ms/step - loss: 2.4659 - accuracy: 0.7420\n",
      "Epoch 21/150\n",
      "1/1 [==============================] - 0s 77ms/step - loss: 2.8897 - accuracy: 0.3570\n",
      "Epoch 22/150\n",
      "1/1 [==============================] - 0s 74ms/step - loss: 1.5794 - accuracy: 0.7480\n",
      "Epoch 23/150\n",
      "1/1 [==============================] - 0s 69ms/step - loss: 1.8701 - accuracy: 0.7430\n",
      "Epoch 24/150\n",
      "1/1 [==============================] - 0s 65ms/step - loss: 0.9467 - accuracy: 0.5920\n",
      "Epoch 25/150\n",
      "1/1 [==============================] - 0s 66ms/step - loss: 0.8053 - accuracy: 0.6400\n",
      "Epoch 26/150\n",
      "1/1 [==============================] - 0s 64ms/step - loss: 1.3787 - accuracy: 0.7440\n",
      "Epoch 27/150\n",
      "1/1 [==============================] - 0s 63ms/step - loss: 0.6975 - accuracy: 0.7310\n",
      "Epoch 28/150\n",
      "1/1 [==============================] - 0s 68ms/step - loss: 2.6129 - accuracy: 0.3110\n",
      "Epoch 29/150\n",
      "1/1 [==============================] - 0s 67ms/step - loss: 3.7549 - accuracy: 0.7390\n",
      "Epoch 30/150\n",
      "1/1 [==============================] - 0s 64ms/step - loss: 5.6368 - accuracy: 0.7390\n",
      "Epoch 31/150\n",
      "1/1 [==============================] - 0s 69ms/step - loss: 4.7193 - accuracy: 0.7390\n",
      "Epoch 32/150\n",
      "1/1 [==============================] - 0s 70ms/step - loss: 1.3643 - accuracy: 0.7370\n",
      "Epoch 33/150\n",
      "1/1 [==============================] - 0s 65ms/step - loss: 10.2573 - accuracy: 0.2610\n",
      "Epoch 34/150\n",
      "1/1 [==============================] - 0s 63ms/step - loss: 5.0271 - accuracy: 0.2650\n",
      "Epoch 35/150\n",
      "1/1 [==============================] - 0s 57ms/step - loss: 6.1902 - accuracy: 0.7390\n",
      "Epoch 36/150\n",
      "1/1 [==============================] - 0s 61ms/step - loss: 11.1587 - accuracy: 0.7390\n",
      "Epoch 37/150\n",
      "1/1 [==============================] - 0s 65ms/step - loss: 13.0683 - accuracy: 0.7390\n",
      "Epoch 38/150\n",
      "1/1 [==============================] - 0s 63ms/step - loss: 12.2966 - accuracy: 0.7390\n",
      "Epoch 39/150\n",
      "1/1 [==============================] - 0s 61ms/step - loss: 9.1810 - accuracy: 0.7390\n",
      "Epoch 40/150\n",
      "1/1 [==============================] - 0s 65ms/step - loss: 3.9004 - accuracy: 0.7380\n",
      "Epoch 41/150\n",
      "1/1 [==============================] - 0s 74ms/step - loss: 7.7681 - accuracy: 0.3540\n",
      "Epoch 42/150\n",
      "1/1 [==============================] - 0s 70ms/step - loss: 2.1424 - accuracy: 0.7380\n",
      "Epoch 43/150\n",
      "1/1 [==============================] - 0s 117ms/step - loss: 1.1625 - accuracy: 0.5940\n",
      "Epoch 44/150\n",
      "1/1 [==============================] - 0s 66ms/step - loss: 1.5218 - accuracy: 0.5110\n",
      "Epoch 45/150\n",
      "1/1 [==============================] - 0s 61ms/step - loss: 3.7041 - accuracy: 0.7390\n",
      "Epoch 46/150\n",
      "1/1 [==============================] - 0s 65ms/step - loss: 4.8172 - accuracy: 0.7390\n",
      "Epoch 47/150\n",
      "1/1 [==============================] - 0s 72ms/step - loss: 2.5807 - accuracy: 0.7400\n",
      "Epoch 48/150\n",
      "1/1 [==============================] - 0s 71ms/step - loss: 8.3544 - accuracy: 0.2790\n",
      "Epoch 49/150\n",
      "1/1 [==============================] - 0s 62ms/step - loss: 2.9085 - accuracy: 0.7410\n",
      "Epoch 50/150\n",
      "1/1 [==============================] - 0s 62ms/step - loss: 3.4243 - accuracy: 0.7400\n",
      "Epoch 51/150\n",
      "1/1 [==============================] - 0s 65ms/step - loss: 1.0697 - accuracy: 0.7380\n",
      "Epoch 52/150\n",
      "1/1 [==============================] - 0s 70ms/step - loss: 6.7207 - accuracy: 0.2770\n",
      "Epoch 53/150\n",
      "1/1 [==============================] - 0s 71ms/step - loss: 2.6244 - accuracy: 0.7390\n",
      "Epoch 54/150\n",
      "1/1 [==============================] - 0s 71ms/step - loss: 3.0671 - accuracy: 0.7390\n",
      "Epoch 55/150\n",
      "1/1 [==============================] - 0s 78ms/step - loss: 0.8483 - accuracy: 0.6400\n",
      "Epoch 56/150\n",
      "1/1 [==============================] - 0s 77ms/step - loss: 1.1680 - accuracy: 0.5700\n",
      "Epoch 57/150\n",
      "1/1 [==============================] - 0s 73ms/step - loss: 2.9343 - accuracy: 0.7400\n",
      "Epoch 58/150\n",
      "1/1 [==============================] - 0s 72ms/step - loss: 2.4884 - accuracy: 0.7390\n",
      "Epoch 59/150\n",
      "1/1 [==============================] - 0s 60ms/step - loss: 2.2135 - accuracy: 0.4480\n",
      "Epoch 60/150\n",
      "1/1 [==============================] - 0s 62ms/step - loss: 2.6106 - accuracy: 0.7390\n",
      "Epoch 61/150\n",
      "1/1 [==============================] - 0s 65ms/step - loss: 2.5087 - accuracy: 0.7410\n",
      "Epoch 62/150\n",
      "1/1 [==============================] - 0s 73ms/step - loss: 1.0521 - accuracy: 0.6250\n",
      "Epoch 63/150\n",
      "1/1 [==============================] - 0s 63ms/step - loss: 1.8115 - accuracy: 0.4690\n",
      "Epoch 64/150\n",
      "1/1 [==============================] - 0s 62ms/step - loss: 2.9163 - accuracy: 0.7410\n",
      "Epoch 65/150\n",
      "1/1 [==============================] - 0s 61ms/step - loss: 3.7693 - accuracy: 0.7390\n",
      "Epoch 66/150\n",
      "1/1 [==============================] - 0s 75ms/step - loss: 1.9709 - accuracy: 0.7440\n",
      "Epoch 67/150\n",
      "1/1 [==============================] - 0s 69ms/step - loss: 4.5044 - accuracy: 0.3070\n",
      "Epoch 68/150\n",
      "1/1 [==============================] - 0s 76ms/step - loss: 1.1296 - accuracy: 0.7410\n",
      "Epoch 69/150\n",
      "1/1 [==============================] - 0s 65ms/step - loss: 1.9533 - accuracy: 0.7420\n",
      "Epoch 70/150\n",
      "1/1 [==============================] - 0s 66ms/step - loss: 1.0310 - accuracy: 0.6710\n",
      "Epoch 71/150\n",
      "1/1 [==============================] - 0s 68ms/step - loss: 1.7217 - accuracy: 0.4860\n",
      "Epoch 72/150\n",
      "1/1 [==============================] - 0s 69ms/step - loss: 3.2051 - accuracy: 0.7390\n",
      "Epoch 73/150\n",
      "1/1 [==============================] - 0s 65ms/step - loss: 3.4535 - accuracy: 0.7390\n",
      "Epoch 74/150\n",
      "1/1 [==============================] - 0s 72ms/step - loss: 1.2793 - accuracy: 0.7380\n",
      "Epoch 75/150\n",
      "1/1 [==============================] - 0s 69ms/step - loss: 6.5165 - accuracy: 0.2700\n",
      "Epoch 76/150\n",
      "1/1 [==============================] - 0s 75ms/step - loss: 0.7402 - accuracy: 0.7460\n",
      "Epoch 77/150\n",
      "1/1 [==============================] - 0s 64ms/step - loss: 2.4765 - accuracy: 0.7400\n",
      "Epoch 78/150\n",
      "1/1 [==============================] - 0s 66ms/step - loss: 2.0662 - accuracy: 0.7410\n",
      "Epoch 79/150\n",
      "1/1 [==============================] - 0s 76ms/step - loss: 1.2605 - accuracy: 0.5200\n",
      "Epoch 80/150\n",
      "1/1 [==============================] - 0s 71ms/step - loss: 0.7225 - accuracy: 0.7370\n",
      "Epoch 81/150\n",
      "1/1 [==============================] - 0s 73ms/step - loss: 0.8165 - accuracy: 0.7450\n",
      "Epoch 82/150\n",
      "1/1 [==============================] - 0s 67ms/step - loss: 0.9156 - accuracy: 0.6060\n",
      "Epoch 83/150\n"
     ]
    },
    {
     "name": "stdout",
     "output_type": "stream",
     "text": [
      "1/1 [==============================] - 0s 67ms/step - loss: 1.0022 - accuracy: 0.7410\n",
      "Epoch 84/150\n",
      "1/1 [==============================] - 0s 72ms/step - loss: 0.7132 - accuracy: 0.7490\n",
      "Epoch 85/150\n",
      "1/1 [==============================] - 0s 61ms/step - loss: 1.4706 - accuracy: 0.4540\n",
      "Epoch 86/150\n",
      "1/1 [==============================] - 0s 62ms/step - loss: 2.0031 - accuracy: 0.7400\n",
      "Epoch 87/150\n",
      "1/1 [==============================] - 0s 63ms/step - loss: 2.3143 - accuracy: 0.7400\n",
      "Epoch 88/150\n",
      "1/1 [==============================] - 0s 64ms/step - loss: 0.7086 - accuracy: 0.7480\n",
      "Epoch 89/150\n",
      "1/1 [==============================] - 0s 62ms/step - loss: 4.5182 - accuracy: 0.2940\n",
      "Epoch 90/150\n",
      "1/1 [==============================] - 0s 63ms/step - loss: 1.5939 - accuracy: 0.7410\n",
      "Epoch 91/150\n",
      "1/1 [==============================] - 0s 82ms/step - loss: 2.7924 - accuracy: 0.7390\n",
      "Epoch 92/150\n",
      "1/1 [==============================] - 0s 69ms/step - loss: 1.6868 - accuracy: 0.7410\n",
      "Epoch 93/150\n",
      "1/1 [==============================] - 0s 70ms/step - loss: 2.7558 - accuracy: 0.3530\n",
      "Epoch 94/150\n",
      "1/1 [==============================] - 0s 58ms/step - loss: 1.0214 - accuracy: 0.7430\n",
      "Epoch 95/150\n",
      "1/1 [==============================] - 0s 58ms/step - loss: 1.4152 - accuracy: 0.7390\n",
      "Epoch 96/150\n",
      "1/1 [==============================] - 0s 60ms/step - loss: 0.7490 - accuracy: 0.6650\n",
      "Epoch 97/150\n",
      "1/1 [==============================] - 0s 60ms/step - loss: 0.9576 - accuracy: 0.5860\n",
      "Epoch 98/150\n",
      "1/1 [==============================] - 0s 62ms/step - loss: 1.5344 - accuracy: 0.7410\n",
      "Epoch 99/150\n",
      "1/1 [==============================] - 0s 62ms/step - loss: 1.3135 - accuracy: 0.7380\n",
      "Epoch 100/150\n",
      "1/1 [==============================] - 0s 62ms/step - loss: 1.4643 - accuracy: 0.4630\n",
      "Epoch 101/150\n",
      "1/1 [==============================] - 0s 59ms/step - loss: 0.9849 - accuracy: 0.7420\n",
      "Epoch 102/150\n",
      "1/1 [==============================] - 0s 59ms/step - loss: 0.9527 - accuracy: 0.7450\n",
      "Epoch 103/150\n",
      "1/1 [==============================] - 0s 57ms/step - loss: 1.2938 - accuracy: 0.4940\n",
      "Epoch 104/150\n",
      "1/1 [==============================] - 0s 64ms/step - loss: 1.1766 - accuracy: 0.7400\n",
      "Epoch 105/150\n",
      "1/1 [==============================] - 0s 64ms/step - loss: 1.0805 - accuracy: 0.7400\n",
      "Epoch 106/150\n",
      "1/1 [==============================] - 0s 64ms/step - loss: 1.3755 - accuracy: 0.4730\n",
      "Epoch 107/150\n",
      "1/1 [==============================] - 0s 69ms/step - loss: 1.0933 - accuracy: 0.7410\n",
      "Epoch 108/150\n",
      "1/1 [==============================] - 0s 61ms/step - loss: 1.0387 - accuracy: 0.7420\n",
      "Epoch 109/150\n",
      "1/1 [==============================] - 0s 62ms/step - loss: 1.2864 - accuracy: 0.4900\n",
      "Epoch 110/150\n",
      "1/1 [==============================] - 0s 57ms/step - loss: 1.0280 - accuracy: 0.7420\n",
      "Epoch 111/150\n",
      "1/1 [==============================] - 0s 59ms/step - loss: 0.9519 - accuracy: 0.7430\n",
      "Epoch 112/150\n",
      "1/1 [==============================] - 0s 60ms/step - loss: 1.3046 - accuracy: 0.4880\n",
      "Epoch 113/150\n",
      "1/1 [==============================] - 0s 61ms/step - loss: 1.0962 - accuracy: 0.7410\n",
      "Epoch 114/150\n",
      "1/1 [==============================] - 0s 59ms/step - loss: 1.0372 - accuracy: 0.7410\n",
      "Epoch 115/150\n",
      "1/1 [==============================] - 0s 62ms/step - loss: 1.2485 - accuracy: 0.4990\n",
      "Epoch 116/150\n",
      "1/1 [==============================] - 0s 63ms/step - loss: 0.9642 - accuracy: 0.7420\n",
      "Epoch 117/150\n",
      "1/1 [==============================] - 0s 61ms/step - loss: 0.8921 - accuracy: 0.7440\n",
      "Epoch 118/150\n",
      "1/1 [==============================] - 0s 59ms/step - loss: 1.2641 - accuracy: 0.4910\n",
      "Epoch 119/150\n",
      "1/1 [==============================] - 0s 60ms/step - loss: 1.1107 - accuracy: 0.7400\n",
      "Epoch 120/150\n",
      "1/1 [==============================] - 0s 70ms/step - loss: 1.0474 - accuracy: 0.7410\n",
      "Epoch 121/150\n",
      "1/1 [==============================] - 0s 59ms/step - loss: 1.2279 - accuracy: 0.5000\n",
      "Epoch 122/150\n",
      "1/1 [==============================] - 0s 63ms/step - loss: 0.9250 - accuracy: 0.7420\n",
      "Epoch 123/150\n",
      "1/1 [==============================] - 0s 58ms/step - loss: 0.8628 - accuracy: 0.7480\n",
      "Epoch 124/150\n",
      "1/1 [==============================] - 0s 65ms/step - loss: 1.2128 - accuracy: 0.5070\n",
      "Epoch 125/150\n",
      "1/1 [==============================] - 0s 57ms/step - loss: 1.0700 - accuracy: 0.7400\n",
      "Epoch 126/150\n",
      "1/1 [==============================] - 0s 69ms/step - loss: 0.9971 - accuracy: 0.7400\n",
      "Epoch 127/150\n",
      "1/1 [==============================] - 0s 64ms/step - loss: 1.2239 - accuracy: 0.5020\n",
      "Epoch 128/150\n",
      "1/1 [==============================] - 0s 64ms/step - loss: 0.9333 - accuracy: 0.7410\n",
      "Epoch 129/150\n",
      "1/1 [==============================] - 0s 70ms/step - loss: 0.8802 - accuracy: 0.7430\n",
      "Epoch 130/150\n",
      "1/1 [==============================] - 0s 58ms/step - loss: 1.1761 - accuracy: 0.5140\n",
      "Epoch 131/150\n",
      "1/1 [==============================] - 0s 71ms/step - loss: 0.9884 - accuracy: 0.7390\n",
      "Epoch 132/150\n",
      "1/1 [==============================] - 0s 58ms/step - loss: 0.9135 - accuracy: 0.7410\n",
      "Epoch 133/150\n",
      "1/1 [==============================] - 0s 58ms/step - loss: 1.2097 - accuracy: 0.5030\n",
      "Epoch 134/150\n",
      "1/1 [==============================] - 0s 65ms/step - loss: 0.9736 - accuracy: 0.7400\n",
      "Epoch 135/150\n",
      "1/1 [==============================] - 0s 65ms/step - loss: 0.9188 - accuracy: 0.7400\n",
      "Epoch 136/150\n",
      "1/1 [==============================] - 0s 66ms/step - loss: 1.1653 - accuracy: 0.5140\n",
      "Epoch 137/150\n",
      "1/1 [==============================] - 0s 59ms/step - loss: 0.9209 - accuracy: 0.7400\n",
      "Epoch 138/150\n",
      "1/1 [==============================] - 0s 63ms/step - loss: 0.8600 - accuracy: 0.7450\n",
      "Epoch 139/150\n",
      "1/1 [==============================] - 0s 62ms/step - loss: 1.1549 - accuracy: 0.5170\n",
      "Epoch 140/150\n",
      "1/1 [==============================] - 0s 65ms/step - loss: 0.9552 - accuracy: 0.7400\n",
      "Epoch 141/150\n",
      "1/1 [==============================] - 0s 67ms/step - loss: 0.8906 - accuracy: 0.7410\n",
      "Epoch 142/150\n",
      "1/1 [==============================] - 0s 66ms/step - loss: 1.1565 - accuracy: 0.5150\n",
      "Epoch 143/150\n",
      "1/1 [==============================] - 0s 62ms/step - loss: 0.9166 - accuracy: 0.7410\n",
      "Epoch 144/150\n",
      "1/1 [==============================] - 0s 63ms/step - loss: 0.8624 - accuracy: 0.7410\n",
      "Epoch 145/150\n",
      "1/1 [==============================] - 0s 68ms/step - loss: 1.1244 - accuracy: 0.5200\n",
      "Epoch 146/150\n",
      "1/1 [==============================] - 0s 60ms/step - loss: 0.9066 - accuracy: 0.7410\n",
      "Epoch 147/150\n",
      "1/1 [==============================] - 0s 66ms/step - loss: 0.8448 - accuracy: 0.7430\n",
      "Epoch 148/150\n",
      "1/1 [==============================] - 0s 68ms/step - loss: 1.1244 - accuracy: 0.5200\n",
      "Epoch 149/150\n",
      "1/1 [==============================] - 0s 60ms/step - loss: 0.9135 - accuracy: 0.7400\n",
      "Epoch 150/150\n",
      "1/1 [==============================] - 0s 66ms/step - loss: 0.8556 - accuracy: 0.7420\n"
     ]
    },
    {
     "data": {
      "text/plain": [
       "<tensorflow.python.keras.callbacks.History at 0x154bc1910>"
      ]
     },
     "execution_count": 88,
     "metadata": {},
     "output_type": "execute_result"
    }
   ],
   "source": [
    "# Sequential Training\n",
    "is_sequential = False\n",
    "batch_size = 1 if is_sequential else train_images.shape[0]\n",
    "    \n",
    "model.fit(x=train_images, y=train_images_label, epochs=150, batch_size=batch_size)"
   ]
  },
  {
   "cell_type": "code",
   "execution_count": 86,
   "metadata": {},
   "outputs": [
    {
     "name": "stdout",
     "output_type": "stream",
     "text": [
      "8/8 [==============================] - 0s 3ms/step - loss: 9.1991 - accuracy: 0.7360\n"
     ]
    }
   ],
   "source": [
    "# Testing (Evaluate model)\n",
    "_, accuracy = model.evaluate(x=test_images, y=test_images_label)"
   ]
  },
  {
   "cell_type": "code",
   "execution_count": null,
   "metadata": {},
   "outputs": [],
   "source": []
  }
 ],
 "metadata": {
  "kernelspec": {
   "display_name": "Python 3",
   "language": "python",
   "name": "python3"
  },
  "language_info": {
   "codemirror_mode": {
    "name": "ipython",
    "version": 3
   },
   "file_extension": ".py",
   "mimetype": "text/x-python",
   "name": "python",
   "nbconvert_exporter": "python",
   "pygments_lexer": "ipython3",
   "version": "3.7.6"
  }
 },
 "nbformat": 4,
 "nbformat_minor": 2
}
