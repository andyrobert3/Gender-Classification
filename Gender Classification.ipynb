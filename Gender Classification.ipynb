{
 "cells": [
  {
   "cell_type": "markdown",
   "metadata": {},
   "source": [
    "# Gender Classification\n",
    "\n",
    "This notebook will attempt to classify photos of people to determine whether they are male or female "
   ]
  },
  {
   "cell_type": "markdown",
   "metadata": {},
   "source": [
    "## Data input & cleansing\n"
   ]
  },
  {
   "cell_type": "code",
   "execution_count": 187,
   "metadata": {},
   "outputs": [],
   "source": [
    "import numpy as np\n",
    "import cv2\n",
    "import glob\n",
    "from sklearn.base import BaseEstimator, ClassifierMixin\n",
    "\n",
    "train_images_path = \"Face Database/TrainImages\"\n",
    "test_images_path = \"Face Database/TestImages\"\n",
    "\n",
    "# Extract gray images from files\n",
    "train_images = [cv2.cvtColor(cv2.imread(file), cv2.COLOR_BGR2GRAY) for file in glob.glob(\"{0}/*.jpg\".format(train_images_path))]\n",
    "test_images = [cv2.cvtColor(cv2.imread(file), cv2.COLOR_BGR2GRAY) for file in glob.glob(\"{0}/*.jpg\".format(test_images_path))]\n",
    "\n",
    "# Ensure image sizes are of the same dimension\n",
    "# May result loss in accuracy, how to better handle this?\n",
    "train_images = [img[:101, :101].reshape(101 * 101) if img.shape != (101, 101) else img.reshape(101 * 101) for img in train_images]\n",
    "test_images = [img[:101, :101].reshape(101 * 101) if img.shape != (101, 101) else img.reshape(101 * 101) for img in test_images]\n",
    "\n",
    "\n",
    "# Convert list to 2d ndarray\n",
    "train_images = np.stack(train_images)\n",
    "test_images = np.stack(test_images)"
   ]
  },
  {
   "cell_type": "code",
   "execution_count": 188,
   "metadata": {},
   "outputs": [],
   "source": [
    "# Read ground-truth label\n",
    "def extract_gender_classifier(file_name):\n",
    "    file = open(file_name, \"r\")\n",
    "    if file.mode == \"r\":\n",
    "        contents = file.readlines()\n",
    "        # Gender label in the 0th index (male: 1; female: 0)\n",
    "        gender_classifier_str = contents[0]\n",
    "        return int(gender_classifier_str[0])\n",
    "    \n",
    "train_images_label = [extract_gender_classifier(file) for file in glob.glob(\"{0}/*.att\".format(train_images_path))]\n",
    "test_images_label = [extract_gender_classifier(file) for file in glob.glob(\"{0}/*.att\".format(test_images_path))]"
   ]
  },
  {
   "cell_type": "markdown",
   "metadata": {},
   "source": [
    "## Rosenblatt's perceptron implementation"
   ]
  },
  {
   "cell_type": "code",
   "execution_count": null,
   "metadata": {},
   "outputs": [],
   "source": [
    "# Non-linear activiation function\n",
    "def heaviside(x):\n",
    "    return np.heaviside(x, 1).astype(np.int)\n",
    "\n",
    "\n",
    "threshold = 0.001\n",
    "\n",
    "class Rosenblatt(BaseEstimator, ClassifierMixin):\n",
    "    def __init__(self):\n",
    "        return\n",
    "    \n",
    "    def predict(self, X):\n",
    "        return heaviside(X.dot(self.weights) + self.bias)\n",
    "    \n",
    "    \"\"\"\n",
    "    Input: \n",
    "    \n",
    "    X: numpy 2D array. Each row represents one training example.\n",
    "    y: numpy 1D array. Binary classification of each example.\n",
    "    \n",
    "    --------\n",
    "    \n",
    "    Output:\n",
    "    \n",
    "    self: Trained perceptron model\n",
    "    \n",
    "    \"\"\"\n",
    "    def fit(self, X, y, epochs=100):\n",
    "        num_features = X.shape[1]\n",
    "    \n",
    "        self.weights = np.zeros((num_features, ))\n",
    "        self.bias = 0.0\n",
    "        \n",
    "        for num_iter in range(epochs):\n",
    "            # Current number of errors\n",
    "            errors = 0\n",
    "            \n",
    "            for xi, y_true in zip(X, y):\n",
    "                error = y_true - self.predict(xi)\n",
    "                \n",
    "                if abs(error) > threshold:\n",
    "                    # Update weights accordingly\n",
    "                    self.weights += error * xi\n",
    "                    self.bias += error\n",
    "                    \n",
    "                    # Number of errors\n",
    "                    errors += 1\n",
    "            \n",
    "            if errors == 0:\n",
    "                break\n",
    "\n",
    "        return self"
   ]
  },
  {
   "cell_type": "markdown",
   "metadata": {},
   "source": [
    "### Training and testing Rosenblatt's perceptron"
   ]
  },
  {
   "cell_type": "code",
   "execution_count": null,
   "metadata": {},
   "outputs": [],
   "source": [
    "# Training and running model against train data\n",
    "model = Rosenblatt()\n",
    "model.fit(train_images, train_images_label, epochs=1000)\n",
    "test_images_output = model.predict(test_images)"
   ]
  },
  {
   "cell_type": "markdown",
   "metadata": {},
   "source": [
    "### Checking accuracy of Rosenblatt's perceptron model"
   ]
  },
  {
   "cell_type": "code",
   "execution_count": null,
   "metadata": {},
   "outputs": [],
   "source": [
    "test_images_label = np.array(test_images_label)\n",
    "\n",
    "# Rosenblatt's perceptron accuracy rate\n",
    "num_correct = np.where(test_images_output == test_images_label)[0].shape[0]\n",
    "\n",
    "accuracy = num_correct / test_images_label.shape[0]\n",
    "\n",
    "print(accuracy * 100)"
   ]
  },
  {
   "cell_type": "code",
   "execution_count": null,
   "metadata": {},
   "outputs": [],
   "source": []
  }
 ],
 "metadata": {
  "kernelspec": {
   "display_name": "Python 3",
   "language": "python",
   "name": "python3"
  },
  "language_info": {
   "codemirror_mode": {
    "name": "ipython",
    "version": 3
   },
   "file_extension": ".py",
   "mimetype": "text/x-python",
   "name": "python",
   "nbconvert_exporter": "python",
   "pygments_lexer": "ipython3",
   "version": "3.7.6"
  }
 },
 "nbformat": 4,
 "nbformat_minor": 2
}
